{
 "cells": [
  {
   "cell_type": "code",
   "execution_count": null,
   "metadata": {},
   "outputs": [],
   "source": [
    "import requests\n",
    "from bs4 import BeautifulSoup\n",
    "import json"
   ]
  },
  {
   "cell_type": "code",
   "execution_count": null,
   "metadata": {},
   "outputs": [],
   "source": [
    "import pandas as pd\n",
    "import numpy as np"
   ]
  },
  {
   "cell_type": "code",
   "execution_count": null,
   "metadata": {},
   "outputs": [],
   "source": [
    "url = 'https://www.yelp.com/search?'\n",
    "business = input('What business are you looking for (Restaurants, Hairdressers,...) ?')\n",
    "address = input('What is your search area : (city,street,neighborhood,...)')\n",
    "address = address.replace(' ','+')\n",
    "\n",
    "url = 'https://www.yelp.com/search?find_desc=%s&find_loc=%s,+NY&start=0' % (business,address)\n",
    "print(url)"
   ]
  },
  {
   "cell_type": "code",
   "execution_count": 4,
   "metadata": {},
   "outputs": [
    {
     "data": {
      "text/plain": [
       "'https://www.yelp.com/search?find_desc=Restaurants&find_loc=New+York,+NY&start=0'"
      ]
     },
     "execution_count": 4,
     "metadata": {},
     "output_type": "execute_result"
    }
   ],
   "source": [
    "response = requests.get(url)\n",
    "url"
   ]
  },
  {
   "cell_type": "code",
   "execution_count": 5,
   "metadata": {},
   "outputs": [],
   "source": [
    "results_page = BeautifulSoup(response.content,'lxml')"
   ]
  },
  {
   "cell_type": "code",
   "execution_count": 6,
   "metadata": {},
   "outputs": [
    {
     "data": {
      "text/plain": [
       "[]"
      ]
     },
     "execution_count": 6,
     "metadata": {},
     "output_type": "execute_result"
    }
   ],
   "source": [
    "businesses = results_page.find_all('li',class_ = \"regular-search-result\")\n",
    "businesses"
   ]
  },
  {
   "cell_type": "code",
   "execution_count": null,
   "metadata": {},
   "outputs": [],
   "source": [
    "def get_businesses():\n",
    "    \n",
    "    df = pd.DataFrame(columns = ['name','open or closed','latitude','longitude','price range','rating value','review_count','categories','phone'])\n",
    "    \n",
    "    business = input('What business are you looking for (Restaurants, Hairdressers,...) ?')\n",
    "    address = input('What is your search area : (city,street,neighborhood,...)')\n",
    "    address = address.replace(' ','+')\n",
    "\n",
    "    url = 'https://www.yelp.com/search?find_desc=%s&find_loc=%s,+NY&start=0' % (business,address)\n",
    "    \n",
    "    response = requests.get(url)\n",
    "    results_page = BeautifulSoup(response.content,'lxml')\n",
    "    businesses = results_page.find_all('li',class_ = \"regular-search-result\")\n",
    "    \n",
    "    for business in businesses:\n",
    "        a_tag = business.find('a',{'class': \"biz-name js-analytics-click\"})\n",
    "        business_name = a_tag.find('span').get_text()\n",
    "        business_link = 'https://www.yelp.com' + a_tag.get('href')\n",
    "        \n",
    "        info_list = get_info(business_link)\n",
    "        \n",
    "        latitude,longitude,category_list,price_range,rating_value,review_count,phone_number,open_ = info_list[0],info_list[1],info_list[2],info_list[3],info_list[4],info_list[5],info_list[6],info_list[7]\n",
    "        \n",
    "        df.loc[i] = [business_name,open_,latitude,longitude,price_range,rating_value,review_count,categories,phone]\n",
    "        \n",
    "    df.set_index('name', inplace = True)\n",
    "    return(df)"
   ]
  },
  {
   "cell_type": "code",
   "execution_count": null,
   "metadata": {},
   "outputs": [],
   "source": [
    "def get_info(link):\n",
    "    response_business = requests.get(link)\n",
    "    results_business_page = BeautifulSoup(response_business.content,'lxml')\n",
    "    \n",
    "    latitude = 0\n",
    "    longitude = 0\n",
    "    category_list = []\n",
    "    price_range = ''\n",
    "    rating_value = 0\n",
    "    review_count = 0\n",
    "    phone_number = ''\n",
    "    open_ = ''\n",
    "        \n",
    "    json_map = results_business_page.find('div', class_ = \"lightbox-map hidden\").get('data-map-state')\n",
    "    dict_map = json.loads(json_map)\n",
    "    latitude = dict_map[\"markers\"][1][\"location\"][\"latitude\"]\n",
    "    longitude = dict_map[\"markers\"][1][\"location\"][\"longitude\"]\n",
    "\n",
    "    categories = results_business_page.find(\"span\", class_ = 'category-str-list')\n",
    "    for category in categories.find_all('a'):\n",
    "        category_list.append(category.get_text())\n",
    "        \n",
    "    try:\n",
    "        price_range = results_business_page.find(\"span\", class_ = 'business-attribute price-range').get_text()\n",
    "    except:\n",
    "        price_range = None\n",
    "        \n",
    "    ratings = results_business_page.find(\"div\", itemprop = 'aggregateRating')\n",
    "    rating_value = ratings.find(\"meta\").get('content')\n",
    "    review_count = ratings.find(\"span\").get_text()\n",
    "    \n",
    "    phone_number = results_business_page.find('span',itemprop = \"telephone\").get_text().strip()\n",
    "    \n",
    "    open_ = results_business_page.find('span', class_ = \"nowrap extra open\").get_text()\n",
    "        \n",
    "    return(latitude,longitude,category_list,price_range,rating_value,review_count,phone_number,open_)"
   ]
  },
  {
   "cell_type": "code",
   "execution_count": 22,
   "metadata": {},
   "outputs": [
    {
     "data": {
      "text/plain": [
       "'(718) 386-4282'"
      ]
     },
     "execution_count": 22,
     "metadata": {},
     "output_type": "execute_result"
    }
   ],
   "source": [
    "url = 'https://www.yelp.com/biz/bunker-brooklyn?osq=Restaurants'\n",
    "response_business = requests.get(url)\n",
    "results_business_page = BeautifulSoup(response_business.content,'lxml')\n",
    "phone_number = results_business_page.find('span',itemprop = \"telephone\").get_text()\n",
    "phone_number.strip()"
   ]
  },
  {
   "cell_type": "code",
   "execution_count": 10,
   "metadata": {},
   "outputs": [
    {
     "data": {
      "text/plain": [
       "(40.7105638,\n",
       " -73.9233984,\n",
       " ['Vietnamese'],\n",
       " '$$',\n",
       " '4.0',\n",
       " '642',\n",
       " '(718) 386-4282',\n",
       " 'Open now')"
      ]
     },
     "execution_count": 10,
     "metadata": {},
     "output_type": "execute_result"
    }
   ],
   "source": [
    "get_info('https://www.yelp.com/biz/bunker-brooklyn?osq=Restaurants')"
   ]
  },
  {
   "cell_type": "code",
   "execution_count": null,
   "metadata": {},
   "outputs": [],
   "source": [
    "get_businesses()"
   ]
  },
  {
   "cell_type": "code",
   "execution_count": null,
   "metadata": {},
   "outputs": [],
   "source": []
  },
  {
   "cell_type": "code",
   "execution_count": null,
   "metadata": {},
   "outputs": [],
   "source": []
  }
 ],
 "metadata": {
  "kernelspec": {
   "display_name": "Python 3",
   "language": "python",
   "name": "python3"
  },
  "language_info": {
   "codemirror_mode": {
    "name": "ipython",
    "version": 3
   },
   "file_extension": ".py",
   "mimetype": "text/x-python",
   "name": "python",
   "nbconvert_exporter": "python",
   "pygments_lexer": "ipython3",
   "version": "3.7.0"
  }
 },
 "nbformat": 4,
 "nbformat_minor": 2
}
