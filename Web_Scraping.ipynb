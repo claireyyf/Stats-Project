{
 "cells": [
  {
   "cell_type": "code",
   "execution_count": 29,
   "metadata": {},
   "outputs": [],
   "source": [
    "import requests\n",
    "from bs4 import BeautifulSoup\n",
    "import json"
   ]
  },
  {
   "cell_type": "code",
   "execution_count": 30,
   "metadata": {},
   "outputs": [],
   "source": [
    "import pandas as pd\n",
    "import numpy as np"
   ]
  },
  {
   "cell_type": "code",
   "execution_count": 39,
   "metadata": {},
   "outputs": [
    {
     "name": "stdout",
     "output_type": "stream",
     "text": [
      "What business are you looking for (Restaurants, Hairdressers,...) ? Restaurants\n",
      "What is your search area : (city,street,neighborhood,...) ? New York\n",
      "https://www.yelp.com/search?find_desc=Restaurants&find_loc=New+York,+NY&start=30\n"
     ]
    }
   ],
   "source": [
    "url = 'https://www.yelp.com/search?'\n",
    "business = input('What business are you looking for (Restaurants, Hairdressers,...) ? ')\n",
    "address = input('What is your search area : (city,street,neighborhood,...) ? ')\n",
    "address = address.replace(' ','+')\n",
    "\n",
    "url = 'https://www.yelp.com/search?find_desc=%s&find_loc=%s,+NY&start=30' % (business,address)\n",
    "print(url)"
   ]
  },
  {
   "cell_type": "code",
   "execution_count": 40,
   "metadata": {},
   "outputs": [
    {
     "data": {
      "text/plain": [
       "503"
      ]
     },
     "execution_count": 40,
     "metadata": {},
     "output_type": "execute_result"
    }
   ],
   "source": [
    "response = requests.get(url)\n",
    "response.status_code"
   ]
  },
  {
   "cell_type": "code",
   "execution_count": 41,
   "metadata": {},
   "outputs": [
    {
     "data": {
      "text/plain": [
       "<!DOCTYPE html>\n",
       "<!--[if lt IE 7 ]> <html class=\"ie6 ie ltie9 ltie8 no-js\" lang=\"en_US\"> <![endif]--><!--[if IE 7 ]>    <html class=\"ie7 ie ltie9 ltie8 no-js\" lang=\"en_US\"> <![endif]--><!--[if IE 8 ]>    <html class=\"ie8 ie ltie9 no-js\" lang=\"en_US\"> <![endif]--><!--[if IE 9 ]>    <html class=\"ie9 ie no-js\" lang=\"en_US\"> <![endif]--><!--[if (gt IE 9)|!(IE)]><!--><html class=\"no-js\" lang=\"en_US\"> <!--<![endif]-->\n",
       "<head>\n",
       "<meta content=\"text/html; charset=utf-8\" http-equiv=\"Content-Type\"/>\n",
       "<link href=\"https://s3-media1.fl.yelpcdn.com/assets/srv0/error_pages/8a98d2743e15/assets/scss/maintenance-pkg.css\" rel=\"stylesheet\"/>\n",
       "<title>Yelp</title>\n",
       "<link content=\"#c41200\" href=\"https://s3-media1.fl.yelpcdn.com/assets/srv0/yelp_styleguide/4374c8fd03d1/assets/img/logos/yelp_burst.svg\" rel=\"mask-icon\" sizes=\"any\"/>\n",
       "<link href=\"https://s3-media2.fl.yelpcdn.com/assets/srv0/yelp_styleguide/118ff475a341/assets/img/logos/favicon.ico\" rel=\"shortcut icon\"/>\n",
       "</head>\n",
       "<body>\n",
       "<div class=\"main-header main-content-wrap js-main-header webview-hidden main-header--simple\">\n",
       "<div class=\"main-header_wrapper\">\n",
       "<div class=\"content-container\">\n",
       "<div class=\"arrange arrange--18 arrange--middle main-header_arrange\">\n",
       "<div class=\"arrange_unit arrange_unit--fill align-middle main-header--full_arrange_unit main-header_search-container\">\n",
       "<div class=\"main-header_logo js-analytics-click\" data-analytics-label=\"logo\" id=\"logo\">\n",
       "<a href=\"/\">Yelp</a>\n",
       "</div>\n",
       "</div>\n",
       "</div>\n",
       "</div>\n",
       "</div>\n",
       "</div>\n",
       "<div class=\"y-container y-container--shelf u-bg-color\">\n",
       "<div class=\"y-container_content y-container_content--maintenance u-text-centered\">\n",
       "<div class=\"u-space-b3\">\n",
       "<img src=\"https://s3-media1.fl.yelpcdn.com/assets/srv0/error_pages/0fba5e79f743/assets/img/222x222_hardhatdarwin.png\" srcset=\"https://s3-media3.fl.yelpcdn.com/assets/srv0/error_pages/b96919a24714/assets/img/222x222_hardhatdarwin@2x.png 2x\" width=\"222\"/>\n",
       "</div>\n",
       "<div class=\"u-space-b6\">\n",
       "<h2>Sorry, you’re not allowed to access this page.</h2>\n",
       "<p><a href=\"mailto:feedback+unavailable@yelp.com?subject=Unavailable%20Message\" id=\"contact-link\">Contact Yelp</a> if you keep experiencing issues.</p>\n",
       "</div>\n",
       "</div>\n",
       "</div>\n",
       "<script src=\"/error-pages/block.js\" type=\"text/javascript\"></script>\n",
       "</body>\n",
       "</html>"
      ]
     },
     "execution_count": 41,
     "metadata": {},
     "output_type": "execute_result"
    }
   ],
   "source": [
    "results_page = BeautifulSoup(response.content,'lxml')\n",
    "results_page"
   ]
  },
  {
   "cell_type": "code",
   "execution_count": 34,
   "metadata": {},
   "outputs": [
    {
     "data": {
      "text/plain": [
       "[]"
      ]
     },
     "execution_count": 34,
     "metadata": {},
     "output_type": "execute_result"
    }
   ],
   "source": [
    "results_page.find_all('li',class_ = \"regular-search-result\")"
   ]
  },
  {
   "cell_type": "code",
   "execution_count": 35,
   "metadata": {},
   "outputs": [],
   "source": [
    "def get_businesses(limit = 30):\n",
    "    \n",
    "    loop_range = limit//30 \n",
    "    \n",
    "    business_numbers = list((np.arange(loop_range))*30)\n",
    "    \n",
    "    for page_index in business_numbers:\n",
    "    \n",
    "        df = pd.DataFrame(columns = ['name','open or closed','latitude','longitude','price range','rating value','review_count','categories','phone'])\n",
    "\n",
    "        business = input('What business are you looking for (Restaurants, Hairdressers,...) ? ')\n",
    "        address = input('What is your search area : (city,street,neighborhood,...) ? ')\n",
    "        address = address.replace(' ','+')\n",
    "\n",
    "        url = 'https://www.yelp.com/search?find_desc=%s&find_loc=%s,+NY&start=%s' % (business,address,page_index)\n",
    "        print(url)\n",
    "        response = requests.get(url)\n",
    "        results_page = BeautifulSoup(response.content,'lxml')\n",
    "        businesses = results_page.find_all('li',class_ = \"regular-search-result\")\n",
    "        i = 0\n",
    "        l = []\n",
    "        for business in businesses:\n",
    "            a_tag = business.find('a',{'class': \"biz-name js-analytics-click\"})\n",
    "            business_name = a_tag.find('span').get_text()\n",
    "            business_link = 'https://www.yelp.com' + a_tag.get('href')\n",
    "            info_list = get_info(business_link)\n",
    "            latitude,longitude,category_list,price_range,rating_value,review_count,phone_number,open_ = info_list[0],info_list[1],info_list[2],info_list[3],info_list[4],info_list[5],info_list[6],info_list[7]\n",
    "            df.loc[i] = [business_name,open_,latitude,longitude,price_range,rating_value,review_count,category_list,phone_number]\n",
    "\n",
    "            i += 1\n",
    "\n",
    "        df.set_index('name', inplace = True)\n",
    "\n",
    "    return(df)"
   ]
  },
  {
   "cell_type": "code",
   "execution_count": 156,
   "metadata": {},
   "outputs": [],
   "source": [
    "def get_info(link):\n",
    "    response_business = requests.get(link)\n",
    "    results_business_page = BeautifulSoup(response_business.content,'lxml')\n",
    "    \n",
    "    latitude = 0\n",
    "    longitude = 0\n",
    "    category_list = []\n",
    "    price_range = ''\n",
    "    rating_value = 0\n",
    "    review_count = 0\n",
    "    phone_number = ''\n",
    "    open_ = ''\n",
    "        \n",
    "    json_map = results_business_page.find('div', class_ = \"lightbox-map hidden\").get('data-map-state')\n",
    "    dict_map = json.loads(json_map)\n",
    "    latitude = dict_map[\"markers\"][1][\"location\"][\"latitude\"]\n",
    "    longitude = dict_map[\"markers\"][1][\"location\"][\"longitude\"]\n",
    "\n",
    "    categories = results_business_page.find(\"span\", class_ = 'category-str-list')\n",
    "    for category in categories.find_all('a'):\n",
    "        category_list.append(category.get_text())\n",
    "        \n",
    "    try:\n",
    "        price_range = results_business_page.find(\"span\", class_ = 'business-attribute price-range').get_text()\n",
    "    except:\n",
    "        price_range = None\n",
    "        \n",
    "    ratings = results_business_page.find(\"div\", itemprop = 'aggregateRating')\n",
    "    rating_value = ratings.find(\"meta\").get('content')\n",
    "    review_count = ratings.find(\"span\").get_text()\n",
    "    \n",
    "    try:\n",
    "        phone_number = results_business_page.find('span',itemprop = \"telephone\").get_text().strip()\n",
    "    except:\n",
    "        phone_number = None\n",
    "        \n",
    "    try:\n",
    "        open_ = results_business_page.find('span', class_ = \"nowrap extra open\").get_text()\n",
    "    except:\n",
    "        open_ = None\n",
    "        \n",
    "    return(latitude,longitude,category_list,price_range,rating_value,review_count,phone_number,open_)"
   ]
  },
  {
   "cell_type": "code",
   "execution_count": 157,
   "metadata": {},
   "outputs": [
    {
     "data": {
      "text/plain": [
       "'(718) 386-4282'"
      ]
     },
     "execution_count": 157,
     "metadata": {},
     "output_type": "execute_result"
    }
   ],
   "source": [
    "url = 'https://www.yelp.com/biz/bunker-brooklyn?osq=Restaurants'\n",
    "response_business = requests.get(url)\n",
    "results_business_page = BeautifulSoup(response_business.content,'lxml')\n",
    "phone_number = results_business_page.find('span',itemprop = \"telephone\").get_text()\n",
    "phone_number.strip()"
   ]
  },
  {
   "cell_type": "code",
   "execution_count": 24,
   "metadata": {},
   "outputs": [
    {
     "data": {
      "text/plain": [
       "(40.7105638,\n",
       " -73.9233984,\n",
       " ['Vietnamese'],\n",
       " '$$',\n",
       " '4.0',\n",
       " '642',\n",
       " '(718) 386-4282',\n",
       " 'Open now')"
      ]
     },
     "execution_count": 24,
     "metadata": {},
     "output_type": "execute_result"
    }
   ],
   "source": [
    "get_info('https://www.yelp.com/biz/bunker-brooklyn?osq=Restaurants')"
   ]
  },
  {
   "cell_type": "code",
   "execution_count": 2,
   "metadata": {},
   "outputs": [
    {
     "ename": "NameError",
     "evalue": "name 'np' is not defined",
     "output_type": "error",
     "traceback": [
      "\u001b[0;31m---------------------------------------------------------------------------\u001b[0m",
      "\u001b[0;31mNameError\u001b[0m                                 Traceback (most recent call last)",
      "\u001b[0;32m<ipython-input-2-00d212a7b293>\u001b[0m in \u001b[0;36m<module>\u001b[0;34m()\u001b[0m\n\u001b[0;32m----> 1\u001b[0;31m \u001b[0mget_businesses\u001b[0m\u001b[0;34m(\u001b[0m\u001b[0;34m)\u001b[0m\u001b[0;34m\u001b[0m\u001b[0m\n\u001b[0m",
      "\u001b[0;32m<ipython-input-1-912aa80136e2>\u001b[0m in \u001b[0;36mget_businesses\u001b[0;34m(limit)\u001b[0m\n\u001b[1;32m      3\u001b[0m     \u001b[0mloop_range\u001b[0m \u001b[0;34m=\u001b[0m \u001b[0mlimit\u001b[0m\u001b[0;34m//\u001b[0m\u001b[0;36m30\u001b[0m\u001b[0;34m\u001b[0m\u001b[0m\n\u001b[1;32m      4\u001b[0m \u001b[0;34m\u001b[0m\u001b[0m\n\u001b[0;32m----> 5\u001b[0;31m     \u001b[0mbusiness_numbers\u001b[0m \u001b[0;34m=\u001b[0m \u001b[0mlist\u001b[0m\u001b[0;34m(\u001b[0m\u001b[0;34m(\u001b[0m\u001b[0mnp\u001b[0m\u001b[0;34m.\u001b[0m\u001b[0marange\u001b[0m\u001b[0;34m(\u001b[0m\u001b[0mloop_range\u001b[0m\u001b[0;34m)\u001b[0m\u001b[0;34m)\u001b[0m\u001b[0;34m*\u001b[0m\u001b[0;36m30\u001b[0m\u001b[0;34m)\u001b[0m\u001b[0;34m\u001b[0m\u001b[0m\n\u001b[0m\u001b[1;32m      6\u001b[0m \u001b[0;34m\u001b[0m\u001b[0m\n\u001b[1;32m      7\u001b[0m     \u001b[0;32mfor\u001b[0m \u001b[0mpage_index\u001b[0m \u001b[0;32min\u001b[0m \u001b[0mbusiness_numbers\u001b[0m\u001b[0;34m:\u001b[0m\u001b[0;34m\u001b[0m\u001b[0m\n",
      "\u001b[0;31mNameError\u001b[0m: name 'np' is not defined"
     ]
    }
   ],
   "source": [
    "get_businesses()"
   ]
  },
  {
   "cell_type": "code",
   "execution_count": 185,
   "metadata": {},
   "outputs": [
    {
     "data": {
      "text/plain": [
       "[30, 60]"
      ]
     },
     "execution_count": 185,
     "metadata": {},
     "output_type": "execute_result"
    }
   ],
   "source": [
    "list((1+np.arange(2))*30)"
   ]
  },
  {
   "cell_type": "code",
   "execution_count": null,
   "metadata": {},
   "outputs": [],
   "source": []
  }
 ],
 "metadata": {
  "kernelspec": {
   "display_name": "Python 3",
   "language": "python",
   "name": "python3"
  },
  "language_info": {
   "codemirror_mode": {
    "name": "ipython",
    "version": 3
   },
   "file_extension": ".py",
   "mimetype": "text/x-python",
   "name": "python",
   "nbconvert_exporter": "python",
   "pygments_lexer": "ipython3",
   "version": "3.7.0"
  }
 },
 "nbformat": 4,
 "nbformat_minor": 2
}
